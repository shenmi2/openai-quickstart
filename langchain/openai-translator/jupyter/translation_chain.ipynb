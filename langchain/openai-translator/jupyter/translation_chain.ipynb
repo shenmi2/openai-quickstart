{
 "cells": [
  {
   "attachments": {},
   "cell_type": "markdown",
   "id": "69cb775b-eb44-4e95-83c2-c087947d7ae4",
   "metadata": {},
   "source": [
    "# LangChain 核心模块 - Chat Model 和 Chat Prompt Template\n",
    "\n",
    "希望通过此示例，让大家深入理解 LangChain 的聊天模型。简而言之：\n",
    "- `Chat Model` 不止是一个用于聊天对话的模型抽象，更重要的是提供了`多角色`提示能力（System,AI,Human,Function)。\n",
    "- `Chat Prompt Template` 则为开发者提供了便捷维护`不同角色`的`提示模板`与`消息记录`的接口。\n",
    "\n",
    "![](../../jupyter/images/model_io.jpeg)\n"
   ]
  },
  {
   "cell_type": "code",
   "execution_count": null,
   "id": "2219b200-bb76-45b7-bb88-0525667c1b31",
   "metadata": {},
   "outputs": [],
   "source": []
  },
  {
   "attachments": {},
   "cell_type": "markdown",
   "id": "8a376a3d-ce1f-4aab-9a2a-6224fce2edfd",
   "metadata": {},
   "source": [
    "## 温故：LangChain Chat Model 使用方法和流程\n",
    "\n",
    "在最终调用 `Chat Model` 时，一定是直接传入`LangChain Schema Messages（消息记录）` \n",
    "\n",
    "```python\n",
    "from langchain.chat_models import ChatOpenAI\n",
    "chat_model = ChatOpenAI(model_name=\"gpt-3.5-turbo\")\n",
    "\n",
    "from langchain.schema import (\n",
    "    AIMessage,\n",
    "    HumanMessage,\n",
    "    SystemMessage\n",
    ")\n",
    "\n",
    "messages = [SystemMessage(content=\"You are a helpful assistant.\"),\n",
    " HumanMessage(content=\"Who won the world series in 2020?\"),\n",
    " AIMessage(content=\"The Los Angeles Dodgers won the World Series in 2020.\"), \n",
    " HumanMessage(content=\"Where was it played?\")]\n",
    "\n",
    "print(messages)\n",
    "\n",
    "chat_model(messages)\n",
    "```\n",
    "\n",
    "打印 messages 输出结果：\n",
    "```\n",
    "[\n",
    "    SystemMessage(content=\"You are a helpful assistant.\", additional_kwargs={}),\n",
    "    HumanMessage(\n",
    "        content=\"Who won the world series in 2020?\", additional_kwargs={}, example=False\n",
    "    ),\n",
    "    AIMessage(\n",
    "        content=\"The Los Angeles Dodgers won the World Series in 2020.\",\n",
    "        additional_kwargs={},\n",
    "        example=False,\n",
    "    ),\n",
    "    HumanMessage(content=\"Where was it played?\", additional_kwargs={}, example=False),\n",
    "]\n",
    "```\n",
    "\n",
    "调用 chat_model(messages) 返回结果：\n",
    "\n",
    "```\n",
    "AIMessage(\n",
    "    content=\"The 2020 World Series was played at Globe Life Field in Arlington, Texas.\",\n",
    "    additional_kwargs={},\n",
    "    example=False,\n",
    ")\n",
    "\n",
    "```"
   ]
  },
  {
   "cell_type": "markdown",
   "id": "44337cac-457c-4971-b382-498dec3e3c24",
   "metadata": {},
   "source": [
    "## 使用 System 和 Human 角色的提示模板构造 ChatPromptTemplate\n",
    "\n",
    "使用 `ChatPromptTemplate.from_messages` 方法，类似使用和维护`messages`的方式，构造 `chat_prompt_template`"
   ]
  },
  {
   "cell_type": "code",
   "id": "0e4d76a2-1ccb-421a-9be2-1a4a6faa3b8b",
   "metadata": {
    "ExecuteTime": {
     "end_time": "2024-07-23T13:16:05.577414Z",
     "start_time": "2024-07-23T13:16:05.565284Z"
    }
   },
   "source": [
    "from langchain.schema import AIMessage, HumanMessage, SystemMessage\n",
    "# 导入 Chat Model 即将使用的 Prompt Templates\n",
    "from langchain.prompts.chat import (\n",
    "    ChatPromptTemplate,\n",
    "    SystemMessagePromptTemplate,\n",
    "    AIMessagePromptTemplate,\n",
    "    HumanMessagePromptTemplate,\n",
    ")\n",
    "\n",
    "# 翻译任务指令始终由 System 角色承担\n",
    "template = (\n",
    "    \"\"\"You are a translation expert, proficient in various languages. \\n\n",
    "    You are also an ancient chinese poet who can translate English to traditional Chinese poetically.\n",
    "    Translates English to traditional Chinese.\"\"\"\n",
    ")\n",
    "system_message_prompt = SystemMessagePromptTemplate.from_template(template)"
   ],
   "outputs": [],
   "execution_count": 49
  },
  {
   "cell_type": "code",
   "id": "596d74c4-0fa5-4308-9920-c8002a3ee0c7",
   "metadata": {
    "ExecuteTime": {
     "end_time": "2024-07-23T13:16:07.378809Z",
     "start_time": "2024-07-23T13:16:07.367172Z"
    }
   },
   "source": [
    "print(system_message_prompt)"
   ],
   "outputs": [
    {
     "name": "stdout",
     "output_type": "stream",
     "text": [
      "prompt=PromptTemplate(input_variables=[], template='You are a translation expert, proficient in various languages. \\n\\n    You are also an ancient chinese poet who can translate English to traditional Chinese poetically.\\n    Translates English to traditional Chinese.')\n"
     ]
    }
   ],
   "execution_count": 50
  },
  {
   "cell_type": "code",
   "id": "d2a8fddd-31d7-493f-94a1-4c1ec4608de6",
   "metadata": {
    "ExecuteTime": {
     "end_time": "2024-07-23T13:16:09.570545Z",
     "start_time": "2024-07-23T13:16:09.552091Z"
    }
   },
   "source": [
    "# 待翻译文本由 Human 角色输入\n",
    "human_template = \"{text}\"\n",
    "human_message_prompt = HumanMessagePromptTemplate.from_template(human_template)"
   ],
   "outputs": [],
   "execution_count": 51
  },
  {
   "cell_type": "code",
   "id": "8922d062-00a9-48dd-b1e2-ed2d2f61a9ad",
   "metadata": {
    "ExecuteTime": {
     "end_time": "2024-07-23T13:16:18.058139Z",
     "start_time": "2024-07-23T13:16:18.042404Z"
    }
   },
   "source": [
    "print(human_message_prompt)"
   ],
   "outputs": [
    {
     "name": "stdout",
     "output_type": "stream",
     "text": [
      "prompt=PromptTemplate(input_variables=['text'], template='{text}')\n"
     ]
    }
   ],
   "execution_count": 54
  },
  {
   "cell_type": "code",
   "id": "125cef74-88a0-4775-a513-06692592d801",
   "metadata": {
    "ExecuteTime": {
     "end_time": "2024-07-23T13:16:14.127682Z",
     "start_time": "2024-07-23T13:16:14.113002Z"
    }
   },
   "source": [
    "# 使用 System 和 Human 角色的提示模板构造 ChatPromptTemplate\n",
    "chat_prompt_template = ChatPromptTemplate.from_messages(\n",
    "    [system_message_prompt, human_message_prompt]\n",
    ")"
   ],
   "outputs": [],
   "execution_count": 52
  },
  {
   "cell_type": "code",
   "id": "d16f01ad-b7c9-4a0a-af8f-698f55d4762e",
   "metadata": {
    "ExecuteTime": {
     "end_time": "2024-07-23T13:16:15.838312Z",
     "start_time": "2024-07-23T13:16:15.833264Z"
    }
   },
   "source": [
    "print(chat_prompt_template)"
   ],
   "outputs": [
    {
     "name": "stdout",
     "output_type": "stream",
     "text": [
      "input_variables=['text'] messages=[SystemMessagePromptTemplate(prompt=PromptTemplate(input_variables=[], template='You are a translation expert, proficient in various languages. \\n\\n    You are also an ancient chinese poet who can translate English to traditional Chinese poetically.\\n    Translates English to traditional Chinese.')), HumanMessagePromptTemplate(prompt=PromptTemplate(input_variables=['text'], template='{text}'))]\n"
     ]
    }
   ],
   "execution_count": 53
  },
  {
   "cell_type": "markdown",
   "id": "406a2804-96f5-4470-9464-a96572e31149",
   "metadata": {},
   "source": [
    "### 规范化 Python 复杂对象\n",
    "\n",
    "- 使用在线工具 [Python Formatter](https://codebeautify.org/python-formatter-beautifier) \n",
    "- 规范化 `chat_prompt_template`后再查看\n",
    "- 注意：不要同事输入多个复杂对象\n",
    "\n",
    "```json\n",
    "messages = [\n",
    "    SystemMessagePromptTemplate(\n",
    "        prompt=PromptTemplate(\n",
    "            input_variables=[],\n",
    "            output_parser=None,\n",
    "            partial_variables={},\n",
    "            template=\"You are a translation expert, proficient in various languages. \\n\\n    Translates English to Chinese.\",\n",
    "            template_format=\"f-string\",\n",
    "            validate_template=True,\n",
    "        ),\n",
    "        additional_kwargs={},\n",
    "    ),\n",
    "    HumanMessagePromptTemplate(\n",
    "        prompt=PromptTemplate(\n",
    "            input_variables=[\"text\"],\n",
    "            output_parser=None,\n",
    "            partial_variables={},\n",
    "            template=\"{text}\",\n",
    "            template_format=\"f-string\",\n",
    "            validate_template=True,\n",
    "        ),\n",
    "        additional_kwargs={},\n",
    "    ),\n",
    "]\n",
    "\n",
    "```"
   ]
  },
  {
   "cell_type": "code",
   "id": "b5cf9238-9497-46c3-961f-860e797fcece",
   "metadata": {
    "ExecuteTime": {
     "end_time": "2024-07-23T13:16:23.613858Z",
     "start_time": "2024-07-23T13:16:23.603699Z"
    }
   },
   "source": [
    "# 生成用于翻译的 Chat Prompt\n",
    "chat_prompt_template.format_prompt(text=\"I guess it comes down to a simple choice, really. Get busy living or get busy dying.\")"
   ],
   "outputs": [
    {
     "data": {
      "text/plain": [
       "ChatPromptValue(messages=[SystemMessage(content='You are a translation expert, proficient in various languages. \\n\\n    You are also an ancient chinese poet who can translate English to traditional Chinese poetically.\\n    Translates English to traditional Chinese.'), HumanMessage(content='I guess it comes down to a simple choice, really. Get busy living or get busy dying.')])"
      ]
     },
     "execution_count": 55,
     "metadata": {},
     "output_type": "execute_result"
    }
   ],
   "execution_count": 55
  },
  {
   "cell_type": "markdown",
   "id": "d3a39ff5-2720-40db-80f4-913c8c622bfa",
   "metadata": {},
   "source": [
    "## 使用 chat_prompt_template.to_messages 方法生成 Messages"
   ]
  },
  {
   "cell_type": "code",
   "id": "a21508c5-4b13-4d0e-aa67-c56d554d2626",
   "metadata": {
    "ExecuteTime": {
     "end_time": "2024-07-23T13:16:26.455868Z",
     "start_time": "2024-07-23T13:16:26.446725Z"
    }
   },
   "source": [
    "# 生成聊天模型真正可用的消息记录 Messages\n",
    "chat_prompt = chat_prompt_template.format_prompt(text=\"You are a piece of shit, damn!\").to_messages()"
   ],
   "outputs": [],
   "execution_count": 56
  },
  {
   "cell_type": "code",
   "id": "a158a289-e738-45e8-b440-3f857a708e57",
   "metadata": {
    "ExecuteTime": {
     "end_time": "2024-07-23T13:16:27.500516Z",
     "start_time": "2024-07-23T13:16:27.483275Z"
    }
   },
   "source": [
    "chat_prompt"
   ],
   "outputs": [
    {
     "data": {
      "text/plain": [
       "[SystemMessage(content='You are a translation expert, proficient in various languages. \\n\\n    You are also an ancient chinese poet who can translate English to traditional Chinese poetically.\\n    Translates English to traditional Chinese.'),\n",
       " HumanMessage(content='You are a piece of shit, damn!')]"
      ]
     },
     "execution_count": 57,
     "metadata": {},
     "output_type": "execute_result"
    }
   ],
   "execution_count": 57
  },
  {
   "cell_type": "markdown",
   "id": "56e2fa43-ba3c-401f-bba0-6bb27050a363",
   "metadata": {},
   "source": [
    "## 使用 Chat Model（GPT-3.5-turbo）实际执行翻译任务\n"
   ]
  },
  {
   "cell_type": "code",
   "id": "5d4e3bd9-fac3-4b67-9285-74e1793f9e74",
   "metadata": {
    "ExecuteTime": {
     "end_time": "2024-07-23T13:16:32.041224Z",
     "start_time": "2024-07-23T13:16:30.763307Z"
    }
   },
   "source": [
    "from langchain.chat_models import ChatOpenAI\n",
    "\n",
    "# 为了翻译结果的稳定性，将 temperature 设置为 0\n",
    "translation_model = ChatOpenAI(api_key=\"sk-AlhxlLBU0BPYJD6I8870F34f377b47Dd8c1f86Ac73AfBe17\",\n",
    "    base_url=\"https://api.xiaoai.plus/v1\", model_name=\"gpt-3.5-turbo\", temperature=0)"
   ],
   "outputs": [],
   "execution_count": 58
  },
  {
   "cell_type": "code",
   "id": "c46d710c-9892-4ce2-8dcf-c3450dae8d83",
   "metadata": {
    "ExecuteTime": {
     "end_time": "2024-07-23T13:16:36.357871Z",
     "start_time": "2024-07-23T13:16:33.879484Z"
    }
   },
   "source": [
    "translation_result = translation_model(chat_prompt)"
   ],
   "outputs": [],
   "execution_count": 59
  },
  {
   "cell_type": "code",
   "id": "63d7cadf-515a-41cd-82d7-1498a3d6a35f",
   "metadata": {
    "ExecuteTime": {
     "end_time": "2024-07-23T13:16:37.654912Z",
     "start_time": "2024-07-23T13:16:37.647718Z"
    }
   },
   "source": [
    "translation_result"
   ],
   "outputs": [
    {
     "data": {
      "text/plain": [
       "AIMessage(content='雖然怒火中燒，卻不願詛咒，\\n心中不快，何妨隨風消散。', response_metadata={'token_usage': {'completion_tokens': 32, 'prompt_tokens': 58, 'total_tokens': 90}, 'model_name': 'gpt-3.5-turbo', 'system_fingerprint': None, 'finish_reason': 'stop', 'logprobs': None}, id='run-8ce9a5bd-210d-4e9e-b03b-85123aa10a5e-0')"
      ]
     },
     "execution_count": 60,
     "metadata": {},
     "output_type": "execute_result"
    }
   ],
   "execution_count": 60
  },
  {
   "cell_type": "code",
   "id": "d56c7a65-bc6c-4e19-8176-ddc457696d0b",
   "metadata": {
    "ExecuteTime": {
     "end_time": "2024-07-23T13:16:44.150174Z",
     "start_time": "2024-07-23T13:16:44.142077Z"
    }
   },
   "source": [
    "# 查看翻译结果\n",
    "print(translation_result.content)"
   ],
   "outputs": [
    {
     "name": "stdout",
     "output_type": "stream",
     "text": [
      "雖然怒火中燒，卻不願詛咒，\n",
      "心中不快，何妨隨風消散。\n"
     ]
    }
   ],
   "execution_count": 61
  },
  {
   "cell_type": "markdown",
   "id": "75f3e72a-90e0-40dc-afa8-0ff96c2b7d72",
   "metadata": {},
   "source": [
    "## 使用 LLMChain 简化重复构造 ChatPrompt"
   ]
  },
  {
   "cell_type": "code",
   "id": "4a57ee8c-dad1-429c-a791-2797a7b0c4ef",
   "metadata": {
    "ExecuteTime": {
     "end_time": "2024-07-23T08:59:21.892585Z",
     "start_time": "2024-07-23T08:59:21.860054Z"
    }
   },
   "source": [
    "from langchain.chains import LLMChain\n",
    "\n",
    "# 无需再每次都使用 to_messages 方法构造 Chat Prompt\n",
    "translation_chain = LLMChain(llm=translation_model, prompt=chat_prompt_template)"
   ],
   "outputs": [
    {
     "name": "stderr",
     "output_type": "stream",
     "text": [
      "D:\\ProgramFiles\\anaconda3\\envs\\langchain\\lib\\site-packages\\langchain_core\\_api\\deprecation.py:139: LangChainDeprecationWarning: The class `LLMChain` was deprecated in LangChain 0.1.17 and will be removed in 1.0. Use RunnableSequence, e.g., `prompt | llm` instead.\n",
      "  warn_deprecated(\n"
     ]
    }
   ],
   "execution_count": 25
  },
  {
   "cell_type": "code",
   "id": "723cebfa-a3bd-434f-9992-9ec25833acdf",
   "metadata": {
    "ExecuteTime": {
     "end_time": "2024-07-23T13:22:57.617884Z",
     "start_time": "2024-07-23T13:22:54.030870Z"
    }
   },
   "source": [
    "# 等价于 translation_result.content (字符串类型)\n",
    "chain_result = translation_chain.run({'text': \"曾经有一份真挚的爱情摆在我的面前，我没有珍惜，等到失去的时候才后悔莫及。尘世间最痛苦的事莫过于此。如果上天能够给我一个再来一次的机会，我会对那个女孩子说三个字：我爱你。如果非要在这份爱上加上一个期限，我希望是……一万年。\"})"
   ],
   "outputs": [],
   "execution_count": 62
  },
  {
   "cell_type": "code",
   "id": "21e1d186-88de-4ca8-ad32-c233d99145c4",
   "metadata": {
    "ExecuteTime": {
     "end_time": "2024-07-23T13:22:58.723496Z",
     "start_time": "2024-07-23T13:22:58.706235Z"
    }
   },
   "source": [
    "print(chain_result)"
   ],
   "outputs": [
    {
     "name": "stdout",
     "output_type": "stream",
     "text": [
      "Once there was a sincere love before me, which I did not cherish. When I lost it, I regretted it too late. There is no greater pain in the world than this. If heaven could give me another chance, I would say three words to that girl: I love you. If I must put a time limit on this love, I hope it would be... ten thousand years.\n"
     ]
    }
   ],
   "execution_count": 63
  },
  {
   "cell_type": "code",
   "id": "faddd232-0308-45ce-b2a6-899f261abe57",
   "metadata": {
    "ExecuteTime": {
     "end_time": "2024-07-23T13:23:39.263469Z",
     "start_time": "2024-07-23T13:23:35.166854Z"
    }
   },
   "source": "translation_chain.run({'text': \"Once there was a sincere love before me, which I did not cherish. When I lost it, I regretted it too late. There is no greater pain in the world than this. If heaven could give me another chance, I would say three words to that girl: I love you. If I must put a time limit on this love, I hope it would be... ten thousand years.\"})",
   "outputs": [
    {
     "data": {
      "text/plain": [
       "'曾经在我面前有一份真诚的爱，我却没有珍惜。当我失去它时，我后悔得太晚。世上没有比这更大的痛苦。如果上天能给我一次机会，我会对那个女孩说三个字：我爱你。如果我必须给这份爱设定一个期限，我希望是……一万年。'"
      ]
     },
     "execution_count": 64,
     "metadata": {},
     "output_type": "execute_result"
    }
   ],
   "execution_count": 64
  },
  {
   "cell_type": "code",
   "execution_count": 18,
   "id": "4f3dcb51-7e3f-4787-84aa-60f45def661e",
   "metadata": {},
   "outputs": [
    {
     "data": {
      "text/plain": [
       "'[水果, 颜色, 价格（美元）] [苹果, 红色, 1.20] [香蕉, 黄色, 0.50] [橙子, 橙色, 0.80] [草莓, 红色, 2.50] [蓝莓, 蓝色, 3.00] [猕猴桃, 绿色, 1.00] [芒果, 橙色, 1.50] [葡萄, 紫色, 2.00]'"
      ]
     },
     "execution_count": 18,
     "metadata": {},
     "output_type": "execute_result"
    }
   ],
   "source": [
    "translation_chain.run({'text': \"[Fruit, Color, Price (USD)] [Apple, Red, 1.20] [Banana, Yellow, 0.50] [Orange, Orange, 0.80] [Strawberry, Red, 2.50] [Blueberry, Blue, 3.00] [Kiwi, Green, 1.00] [Mango, Orange, 1.50] [Grape, Purple, 2.00]\"})\n"
   ]
  },
  {
   "cell_type": "markdown",
   "id": "a47a1bfd-2beb-41eb-a1c1-c6443e4ec129",
   "metadata": {},
   "source": [
    "## 扩展：支持多语言对翻译"
   ]
  },
  {
   "cell_type": "code",
   "id": "bb9b37f6-4bcb-450c-b3c6-e476a8f15bc7",
   "metadata": {
    "ExecuteTime": {
     "end_time": "2024-07-23T13:24:52.312427Z",
     "start_time": "2024-07-23T13:24:52.306386Z"
    }
   },
   "source": [
    "# System 增加 source_language 和 target_language\n",
    "template = (\n",
    "    \"\"\"You are a translation expert, proficient in various languages. \\n\n",
    "    You speak with humor and charm, and with an artistic touch. \\n \n",
    "    Translates {source_language} to {target_language}.\"\"\"\n",
    ")\n",
    "system_message_prompt = SystemMessagePromptTemplate.from_template(template)"
   ],
   "outputs": [],
   "execution_count": 65
  },
  {
   "cell_type": "code",
   "id": "2fccc32f-2b3f-4666-82be-607c452893b7",
   "metadata": {
    "ExecuteTime": {
     "end_time": "2024-07-23T13:24:58.670325Z",
     "start_time": "2024-07-23T13:24:58.660206Z"
    }
   },
   "source": [
    "# 待翻译文本由 Human 角色输入\n",
    "human_template = \"{text}\"\n",
    "human_message_prompt = HumanMessagePromptTemplate.from_template(human_template)"
   ],
   "outputs": [],
   "execution_count": 66
  },
  {
   "cell_type": "code",
   "id": "fd937e81-c54f-49d9-9422-c43670d8e5db",
   "metadata": {
    "ExecuteTime": {
     "end_time": "2024-07-23T13:25:01.300567Z",
     "start_time": "2024-07-23T13:25:01.283228Z"
    }
   },
   "source": [
    "# 使用 System 和 Human 角色的提示模板构造 ChatPromptTemplate\n",
    "m_chat_prompt_template = ChatPromptTemplate.from_messages(\n",
    "    [system_message_prompt, human_message_prompt]\n",
    ")"
   ],
   "outputs": [],
   "execution_count": 67
  },
  {
   "cell_type": "code",
   "id": "ab237375-59ab-40ac-986b-7254989b3418",
   "metadata": {
    "ExecuteTime": {
     "end_time": "2024-07-23T13:25:03.882591Z",
     "start_time": "2024-07-23T13:25:03.879538Z"
    }
   },
   "source": [
    "m_translation_chain = LLMChain(llm=translation_model, prompt=m_chat_prompt_template) "
   ],
   "outputs": [],
   "execution_count": 68
  },
  {
   "cell_type": "code",
   "id": "e728621c-008e-4c2b-bb57-483f1ee4c1e8",
   "metadata": {
    "ExecuteTime": {
     "end_time": "2024-07-23T13:28:16.579551Z",
     "start_time": "2024-07-23T13:28:12.568542Z"
    }
   },
   "source": [
    "m_translation_chain.run({\n",
    "    \"source_language\": \"English\",\n",
    "    \"target_language\": \"Traditional Chinese\",\n",
    "    \"text\": \"Once there was a sincere love before me, which I did not cherish. When I lost it, I regretted it too late. There is no greater pain in the world than this. If heaven could give me another chance, I would say three words to that girl: I love you. If I must put a time limit on this love, I hope it would be... ten thousand years.\",\n",
    "})"
   ],
   "outputs": [
    {
     "data": {
      "text/plain": [
       "'曾經有一份真摯的愛在我面前，我卻未能珍惜。等我失去它時，為時已晚，遺憾如影隨形。世上沒有比這更大的痛苦。如果上天能給我一次機會，我會對那女孩說三個字：我愛你。如果我必須為這份愛設限，我希望是……一萬年。'"
      ]
     },
     "execution_count": 69,
     "metadata": {},
     "output_type": "execute_result"
    }
   ],
   "execution_count": 69
  },
  {
   "cell_type": "code",
   "id": "183455b3-9cf1-42b4-be91-9c699248266a",
   "metadata": {
    "ExecuteTime": {
     "end_time": "2024-07-23T13:28:18.763114Z",
     "start_time": "2024-07-23T13:28:16.581626Z"
    }
   },
   "source": [
    "m_translation_chain.run({\n",
    "    \"source_language\": \"Korean\",\n",
    "    \"target_language\": \"German\",\n",
    "    \"text\": \"저는 노래, 춤, 랩, 농구를 좋아하는 차이 슈쿤입니다.\",\n",
    "})"
   ],
   "outputs": [
    {
     "data": {
      "text/plain": [
       "'Ich bin Chai Shukun, und ich liebe Gesang, Tanz, Rap und Basketball! 🎤🏀💃 Lass uns die Bühne rocken!'"
      ]
     },
     "execution_count": 70,
     "metadata": {},
     "output_type": "execute_result"
    }
   ],
   "execution_count": 70
  },
  {
   "cell_type": "markdown",
   "id": "d42bf232-d2ef-47d8-9029-97940d7f784a",
   "metadata": {},
   "source": [
    "## Homework\n",
    "- 尝试不同的 System Prompt 和 Chat Model，对比翻译效果。\n",
    "- 根据翻译任务的使用场景，是否可以在初次传入 source_language 和 target_language 后不再更新？"
   ]
  },
  {
   "cell_type": "code",
   "execution_count": null,
   "id": "38ee618a-bbaa-476f-80e6-8d22a81fddf6",
   "metadata": {},
   "outputs": [],
   "source": []
  }
 ],
 "metadata": {
  "kernelspec": {
   "display_name": "Python 3 (ipykernel)",
   "language": "python",
   "name": "python3"
  },
  "language_info": {
   "codemirror_mode": {
    "name": "ipython",
    "version": 3
   },
   "file_extension": ".py",
   "mimetype": "text/x-python",
   "name": "python",
   "nbconvert_exporter": "python",
   "pygments_lexer": "ipython3",
   "version": "3.10.11"
  }
 },
 "nbformat": 4,
 "nbformat_minor": 5
}
