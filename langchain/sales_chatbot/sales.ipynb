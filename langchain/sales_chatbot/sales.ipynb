{
 "cells": [
  {
   "cell_type": "markdown",
   "id": "69032b4b-b031-4020-beb0-e8dfd22b660e",
   "metadata": {},
   "source": [
    "# LangChain 实战：房产销售聊天机器人"
   ]
  },
  {
   "cell_type": "markdown",
   "id": "0f3e2d5a-c2ff-4faf-b153-d1751c25fae0",
   "metadata": {},
   "source": [
    "## 使用 GPT-4 构造销售话术数据\n",
    "\n",
    "ChatGPT 分享链接：https://chat.openai.com/share/f3e4b9b0-95fb-4c6a-a3c7-f901dd194c91\n",
    "\n",
    "\n",
    "使用 ChatGPT 构造销售数据的 Prompt 示例：\n",
    "\n",
    "```\n",
    "你是中国顶级的房地产销售，现在培训职场新人，请给出100条实用的销售话术。\n",
    "\n",
    "每条销售话术以如下格式给出：\n",
    "[客户问题]\n",
    "[销售回答]\n",
    "\n",
    "```\n",
    "\n",
    "GPT-4 回复结果：\n",
    "\n",
    "```\n",
    "在房地产销售行业中，精心准备的销售话术可以极大地提高成交率。以下是一些适用于中国房地产销售的实用话术：\n",
    "\n",
    "1.  \n",
    "[客户问题] 这个小区交通便利吗？\n",
    "[销售回答] 当然了，这个小区距离地铁站只有几分钟的步行距离，而且附近有多条公交线路，非常方便。\n",
    "\n",
    "2.  \n",
    "[客户问题] 我担心楼下太吵。\n",
    "[销售回答] 这个小区特别注重居住体验，我们有良好的隔音设计，并且小区内部规划了绿化区域，可以有效降低噪音。\n",
    "\n",
    "3.  \n",
    "[客户问题] 我看房价还在涨，这个投资回报怎么样？\n",
    "[销售回答] 这个区域未来有大量的商业和基础设施建设，所以从长期来看，投资回报非常有保证。\n",
    "\n",
    "4.  \n",
    "[客户问题] 有没有学校？\n",
    "[销售回答] 附近有多所优质的学校，非常适合有孩子的家庭。\n",
    "\n",
    "5.  \n",
    "[客户问题] 物业管理怎么样？\n",
    "[销售回答] 我们的物业管理得到了业主一致好评，服务非常到位。\n",
    "\n",
    "6.  \n",
    "[客户问题] 我想要南向的房子。\n",
    "[销售回答] 很好，我们确实有一些朝南的单位，它们的采光特别好。\n",
    "\n",
    "7.  \n",
    "[客户问题] 这个小区安全吗？\n",
    "[销售回答] 当然，我们24小时安保巡逻，还有先进的监控系统。\n",
    "\n",
    "8.  \n",
    "[客户问题] 预计什么时候交房？\n",
    "[销售回答] 根据目前的进度，我们预计将在明年底交房。\n",
    "\n",
    "9.  \n",
    "[客户问题] 我不想要一楼的房子。\n",
    "[销售回答] 我理解您的顾虑，我们还有多个楼层的房源可以选择。\n",
    "\n",
    "10.  \n",
    "[客户问题] 有优惠吗？\n",
    "[销售回答] 当然，如果您现在下订，我们可以给您一些优惠。\n",
    "```\n",
    "\n",
    "\n",
    "## 使用 Document Transformers 模块来处理原始数据\n",
    "\n",
    "\n",
    "将 ChatGPT 生成的结果保存到 [real_estate_sales_data.txt](real_estate_sales_data.txt) 文件中"
   ]
  },
  {
   "cell_type": "code",
   "id": "efcee928-b9f4-4e4a-b9fb-f6cbee21b642",
   "metadata": {
    "ExecuteTime": {
     "end_time": "2024-07-24T13:41:24.626387Z",
     "start_time": "2024-07-24T13:41:24.597880Z"
    }
   },
   "source": [
    "with open(\"real_estate_sales_data.txt\", encoding=\"utf-8\") as f:\n",
    "    real_estate_sales = f.read()"
   ],
   "outputs": [],
   "execution_count": 166
  },
  {
   "cell_type": "markdown",
   "id": "a9119556-d2e3-4edf-be16-15837da156f1",
   "metadata": {
    "jupyter": {
     "source_hidden": true
    }
   },
   "source": [
    "### 使用 CharacterTextSplitter 来进行文本分割\n",
    "\n",
    "- 基于单字符来进行文本分割（separator）\n",
    "- 基于字符数来决定文本块长度（chunk_size）\n",
    "\n",
    "参考示例：\n",
    "\n",
    "```python\n",
    "from langchain.text_splitter import CharacterTextSplitter\n",
    "text_splitter = CharacterTextSplitter(        \n",
    "    separator = \"\\n\\n\",\n",
    "    chunk_size = 1000,\n",
    "    chunk_overlap  = 200,\n",
    "    length_function = len,\n",
    "    is_separator_regex = False,\n",
    ")\n",
    "```\n"
   ]
  },
  {
   "cell_type": "code",
   "id": "dbe535b8-2bd8-4c31-91d7-eba8aa61b3ef",
   "metadata": {
    "ExecuteTime": {
     "end_time": "2024-07-24T13:41:27.520864Z",
     "start_time": "2024-07-24T13:41:27.514338Z"
    }
   },
   "source": [
    "from langchain.text_splitter import CharacterTextSplitter"
   ],
   "outputs": [],
   "execution_count": 167
  },
  {
   "cell_type": "code",
   "id": "a4f30d9b-9fc6-4860-a497-0aa8220b9284",
   "metadata": {
    "ExecuteTime": {
     "end_time": "2024-07-24T13:41:29.620104Z",
     "start_time": "2024-07-24T13:41:29.611581Z"
    }
   },
   "source": [
    "text_splitter = CharacterTextSplitter(        \n",
    "    separator = r'\\d+\\.',\n",
    "    chunk_size = 80,\n",
    "    chunk_overlap  = 0,\n",
    "    length_function = len,\n",
    "    is_separator_regex = True,\n",
    ")"
   ],
   "outputs": [],
   "execution_count": 169
  },
  {
   "cell_type": "code",
   "id": "530f3172-17a5-4924-ad17-284fbca422ae",
   "metadata": {
    "ExecuteTime": {
     "end_time": "2024-07-24T13:41:32.618173Z",
     "start_time": "2024-07-24T13:41:32.607631Z"
    }
   },
   "source": [
    "docs = text_splitter.create_documents([real_estate_sales])"
   ],
   "outputs": [],
   "execution_count": 170
  },
  {
   "cell_type": "code",
   "id": "3956ec36-706e-4f43-88fc-d704f2984290",
   "metadata": {
    "ExecuteTime": {
     "end_time": "2024-07-24T13:41:33.717329Z",
     "start_time": "2024-07-24T13:41:33.710327Z"
    }
   },
   "source": "docs[0]",
   "outputs": [
    {
     "data": {
      "text/plain": [
       "Document(page_content='\\\\d+\\\\.\\n[顾客问题]：这束玫瑰花能保存多久？\\n[销售回答]：如果您照顾得当，可以保持新鲜大约一周时间，玫瑰花是表达爱意的最佳选择哦。')"
      ]
     },
     "execution_count": 171,
     "metadata": {},
     "output_type": "execute_result"
    }
   ],
   "execution_count": 171
  },
  {
   "cell_type": "code",
   "id": "73b2d47a-27ae-4cd4-a72a-3809b4c22bff",
   "metadata": {
    "ExecuteTime": {
     "end_time": "2024-07-24T13:41:37.575591Z",
     "start_time": "2024-07-24T13:41:37.567585Z"
    }
   },
   "source": [
    "len(docs)\n",
    "# print(docs)"
   ],
   "outputs": [
    {
     "data": {
      "text/plain": [
       "100"
      ]
     },
     "execution_count": 172,
     "metadata": {},
     "output_type": "execute_result"
    }
   ],
   "execution_count": 172
  },
  {
   "cell_type": "markdown",
   "id": "e4617858-ad9c-42eb-a4c3-6bfb7108cdd2",
   "metadata": {},
   "source": [
    "### 使用 Faiss 作为向量数据库，持久化存储房产销售 问答对（QA-Pair）"
   ]
  },
  {
   "cell_type": "code",
   "id": "508c2ab2-e187-424f-a43c-ca3d3b1a0550",
   "metadata": {
    "ExecuteTime": {
     "end_time": "2024-07-24T13:41:49.272422Z",
     "start_time": "2024-07-24T13:41:40.327014Z"
    }
   },
   "source": [
    "from langchain.embeddings.openai import OpenAIEmbeddings\n",
    "from langchain.text_splitter import CharacterTextSplitter\n",
    "from langchain.vectorstores import FAISS\n",
    "\n",
    "db = FAISS.from_documents(docs, OpenAIEmbeddings(api_key=\"sk-AlhxlLBU0BPYJD6I8870F34f377b47Dd8c1f86Ac73AfBe17\",\n",
    "    base_url=\"https://api.xiaoai.plus/v1\"))"
   ],
   "outputs": [],
   "execution_count": 173
  },
  {
   "metadata": {},
   "cell_type": "code",
   "outputs": [],
   "execution_count": null,
   "source": "",
   "id": "c80226f010808a3d"
  },
  {
   "cell_type": "code",
   "id": "250e0873-95e2-4372-98a5-68c0feb304bb",
   "metadata": {
    "ExecuteTime": {
     "end_time": "2024-07-24T13:41:50.030085Z",
     "start_time": "2024-07-24T13:41:50.020570Z"
    }
   },
   "source": [
    "# query = \"小区吵不吵\"\n",
    "query = \"向日葵象征着什么？\""
   ],
   "outputs": [],
   "execution_count": 174
  },
  {
   "cell_type": "code",
   "id": "0d18fcc6-c2be-434b-b8de-9648ac6f83f4",
   "metadata": {
    "ExecuteTime": {
     "end_time": "2024-07-24T13:41:51.860023Z",
     "start_time": "2024-07-24T13:41:51.153520Z"
    }
   },
   "source": [
    "answer_list = db.similarity_search(query)"
   ],
   "outputs": [],
   "execution_count": 175
  },
  {
   "cell_type": "code",
   "id": "e689667e-7a45-40d6-9eae-4e52cbc7daab",
   "metadata": {
    "ExecuteTime": {
     "end_time": "2024-07-24T13:41:53.368672Z",
     "start_time": "2024-07-24T13:41:53.351671Z"
    }
   },
   "source": [
    "for ans in answer_list:\n",
    "    print(ans.page_content + \"\\n\")"
   ],
   "outputs": [
    {
     "name": "stdout",
     "output_type": "stream",
     "text": [
      "[顾客问题]：你们有适合送给朋友的花吗？\n",
      "[销售回答]：有的，向日葵和雏菊这些花象征着友情和欢乐，是送给朋友的最佳选择。\n",
      "\n",
      "[顾客问题]：你们有适合送给朋友的花吗？\n",
      "[销售回答]：有的，向日葵和雏菊这些花象征着友情和欢乐，是送给朋友的最佳选择。\n",
      "\n",
      "[顾客问题]：你们有适合送给朋友的花吗？\n",
      "[销售回答]：有的，向日葵和雏菊这些花象征着友情和欢乐，是送给朋友的最佳选择。\n",
      "\n",
      "[顾客问题]：这花适合送给朋友吗？\n",
      "[销售回答]：非常适合，向日葵和雏菊这些花象征着友情和欢乐，是送给朋友的最佳选择。\n",
      "\n"
     ]
    }
   ],
   "execution_count": 176
  },
  {
   "cell_type": "code",
   "id": "a6cc47bf-1566-472f-84d2-a46bd634907c",
   "metadata": {
    "ExecuteTime": {
     "end_time": "2024-07-24T13:42:04.968886Z",
     "start_time": "2024-07-24T13:42:04.955885Z"
    }
   },
   "source": [
    "db.save_local(\"real_estates_sale\")"
   ],
   "outputs": [],
   "execution_count": 177
  },
  {
   "cell_type": "markdown",
   "id": "0d5323e5-03fa-4c1c-b896-3ccc28af1857",
   "metadata": {},
   "source": [
    "### 使用 retriever 从向量数据库中获取结果\n",
    "\n",
    "#### 使用参数 `k` 指定返回结果数量\n"
   ]
  },
  {
   "cell_type": "code",
   "id": "17f051c9-8676-48d1-a9a4-e69b52630faf",
   "metadata": {
    "ExecuteTime": {
     "end_time": "2024-07-24T13:42:08.265654Z",
     "start_time": "2024-07-24T13:42:08.247109Z"
    }
   },
   "source": [
    "# 实例化一个 TopK Retriever\n",
    "topK_retriever = db.as_retriever(search_kwargs={\"k\": 3})"
   ],
   "outputs": [],
   "execution_count": 178
  },
  {
   "cell_type": "code",
   "id": "e33024db-ca7b-4d68-9b0e-c31c15ded57d",
   "metadata": {
    "ExecuteTime": {
     "end_time": "2024-07-24T13:42:10.810962Z",
     "start_time": "2024-07-24T13:42:10.795955Z"
    }
   },
   "source": [
    "topK_retriever"
   ],
   "outputs": [
    {
     "data": {
      "text/plain": [
       "VectorStoreRetriever(tags=['FAISS', 'OpenAIEmbeddings'], vectorstore=<langchain_community.vectorstores.faiss.FAISS object at 0x000002024AC56920>, search_kwargs={'k': 3})"
      ]
     },
     "execution_count": 179,
     "metadata": {},
     "output_type": "execute_result"
    }
   ],
   "execution_count": 179
  },
  {
   "cell_type": "code",
   "id": "7efb1414-859f-4818-bacd-e1e2edf34b95",
   "metadata": {
    "ExecuteTime": {
     "end_time": "2024-07-24T13:42:15.668742Z",
     "start_time": "2024-07-24T13:42:12.896287Z"
    }
   },
   "source": [
    "docs = topK_retriever.get_relevant_documents(query)\n",
    "for doc in docs:\n",
    "    print(doc.page_content + \"\\n\")"
   ],
   "outputs": [
    {
     "name": "stdout",
     "output_type": "stream",
     "text": [
      "[顾客问题]：你们有适合送给朋友的花吗？\n",
      "[销售回答]：有的，向日葵和雏菊这些花象征着友情和欢乐，是送给朋友的最佳选择。\n",
      "\n",
      "[顾客问题]：你们有适合送给朋友的花吗？\n",
      "[销售回答]：有的，向日葵和雏菊这些花象征着友情和欢乐，是送给朋友的最佳选择。\n",
      "\n",
      "[顾客问题]：你们有适合送给朋友的花吗？\n",
      "[销售回答]：有的，向日葵和雏菊这些花象征着友情和欢乐，是送给朋友的最佳选择。\n",
      "\n"
     ]
    }
   ],
   "execution_count": 180
  },
  {
   "cell_type": "code",
   "id": "a3c4b62d-6f8f-461b-a4fb-41c8a404b831",
   "metadata": {
    "ExecuteTime": {
     "end_time": "2024-07-24T13:43:18.796898Z",
     "start_time": "2024-07-24T13:43:14.893333Z"
    }
   },
   "source": "docs = topK_retriever.get_relevant_documents(\"想给暗恋的女生送一束花，你有什么好的建议吗？\")",
   "outputs": [],
   "execution_count": 188
  },
  {
   "cell_type": "code",
   "id": "04cca3d7-23d9-491f-8350-faeb19861dec",
   "metadata": {
    "ExecuteTime": {
     "end_time": "2024-07-24T13:43:19.657959Z",
     "start_time": "2024-07-24T13:43:19.650457Z"
    }
   },
   "source": [
    "for doc in docs:\n",
    "    print(doc.page_content + \"\\n\")"
   ],
   "outputs": [
    {
     "name": "stdout",
     "output_type": "stream",
     "text": [
      "[顾客问题]：你们有适合送给恋人的花吗？\n",
      "[销售回答]：当然有，红玫瑰和郁金香是送给恋人的最佳选择，表达爱情的甜蜜和美好。\n",
      "\n",
      "[顾客问题]：你们的花适合送给男朋友吗？\n",
      "[销售回答]：当然适合！玫瑰和向日葵都是很好的选择，玫瑰代表爱情，向日葵象征着阳光和希望。\n",
      "\n",
      "[顾客问题]：这束花适合送给男朋友吗？\n",
      "[销售回答]：当然适合！玫瑰和向日葵都是很好的选择，玫瑰代表爱情，向日葵象征着阳光和希望。\n",
      "\n"
     ]
    }
   ],
   "execution_count": 189
  },
  {
   "cell_type": "markdown",
   "id": "b335c9e5-bc01-4a47-916c-03bec0e7a839",
   "metadata": {},
   "source": [
    "#### 使用 similarity_score_threshold 设置阈值，提升结果的相关性质量"
   ]
  },
  {
   "cell_type": "code",
   "id": "b1298956-6cf3-4a68-a3c2-a3149f64f156",
   "metadata": {
    "ExecuteTime": {
     "end_time": "2024-07-24T13:43:24.691725Z",
     "start_time": "2024-07-24T13:43:24.682641Z"
    }
   },
   "source": [
    "# 实例化一个 similarity_score_threshold Retriever\n",
    "retriever = db.as_retriever(\n",
    "    search_type=\"similarity_score_threshold\",\n",
    "    search_kwargs={\"score_threshold\": 0.75}\n",
    ")"
   ],
   "outputs": [],
   "execution_count": 190
  },
  {
   "cell_type": "code",
   "id": "d61167de-72ed-4618-a2e1-5df04784a3bc",
   "metadata": {
    "ExecuteTime": {
     "end_time": "2024-07-24T13:43:29.477186Z",
     "start_time": "2024-07-24T13:43:26.886297Z"
    }
   },
   "source": [
    "\n",
    "docs = retriever.get_relevant_documents(query)\n",
    "if len(docs) > 0:\n",
    "    for doc in docs:\n",
    "        print(doc.page_content + \"\\n\")\n",
    "else:\n",
    "    print(\"赠人玫瑰，手有余香。不是每一种心意都能找到最合适的花语，但是每一束花都让对方感受到你的真情实意。\\n\")\n"
   ],
   "outputs": [
    {
     "name": "stdout",
     "output_type": "stream",
     "text": [
      "[顾客问题]：你们有适合送给朋友的花吗？\n",
      "[销售回答]：有的，向日葵和雏菊这些花象征着友情和欢乐，是送给朋友的最佳选择。\n",
      "\n",
      "[顾客问题]：你们有适合送给朋友的花吗？\n",
      "[销售回答]：有的，向日葵和雏菊这些花象征着友情和欢乐，是送给朋友的最佳选择。\n",
      "\n",
      "[顾客问题]：你们有适合送给朋友的花吗？\n",
      "[销售回答]：有的，向日葵和雏菊这些花象征着友情和欢乐，是送给朋友的最佳选择。\n",
      "\n",
      "[顾客问题]：这花适合送给朋友吗？\n",
      "[销售回答]：非常适合，向日葵和雏菊这些花象征着友情和欢乐，是送给朋友的最佳选择。\n",
      "\n"
     ]
    }
   ],
   "execution_count": 191
  },
  {
   "cell_type": "code",
   "execution_count": null,
   "id": "548d1b52-6fa2-46d6-9218-908db572f380",
   "metadata": {},
   "outputs": [],
   "source": []
  },
  {
   "cell_type": "markdown",
   "id": "c31344ce-f952-4604-b700-fdbb34da1e28",
   "metadata": {},
   "source": [
    "### 提取向量数据库中的`销售回答`"
   ]
  },
  {
   "cell_type": "code",
   "id": "25768463-da65-4762-978d-51c0c3a9c24b",
   "metadata": {
    "ExecuteTime": {
     "end_time": "2024-07-24T13:43:42.171557Z",
     "start_time": "2024-07-24T13:43:39.257262Z"
    }
   },
   "source": [
    "docs = retriever.get_relevant_documents(query)"
   ],
   "outputs": [],
   "execution_count": 192
  },
  {
   "cell_type": "code",
   "id": "4838d3da-dca3-4c31-80da-cec75760a833",
   "metadata": {
    "ExecuteTime": {
     "end_time": "2024-07-24T13:43:42.842250Z",
     "start_time": "2024-07-24T13:43:42.836743Z"
    }
   },
   "source": [
    "docs[0].page_content"
   ],
   "outputs": [
    {
     "data": {
      "text/plain": [
       "'[顾客问题]：你们有适合送给朋友的花吗？\\n[销售回答]：有的，向日葵和雏菊这些花象征着友情和欢乐，是送给朋友的最佳选择。'"
      ]
     },
     "execution_count": 193,
     "metadata": {},
     "output_type": "execute_result"
    }
   ],
   "execution_count": 193
  },
  {
   "cell_type": "code",
   "id": "1ba30232-f468-4102-b70c-02c8b74da43d",
   "metadata": {
    "ExecuteTime": {
     "end_time": "2024-07-24T13:43:44.535792Z",
     "start_time": "2024-07-24T13:43:44.519291Z"
    }
   },
   "source": "docs[0].page_content.split(\"[销售回答]：\")",
   "outputs": [
    {
     "data": {
      "text/plain": [
       "['[顾客问题]：你们有适合送给朋友的花吗？\\n', '有的，向日葵和雏菊这些花象征着友情和欢乐，是送给朋友的最佳选择。']"
      ]
     },
     "execution_count": 194,
     "metadata": {},
     "output_type": "execute_result"
    }
   ],
   "execution_count": 194
  },
  {
   "cell_type": "code",
   "id": "bda8eb0c-eb1f-47b2-91ab-4c94ff71c3db",
   "metadata": {
    "ExecuteTime": {
     "end_time": "2024-07-24T13:43:46.044233Z",
     "start_time": "2024-07-24T13:43:46.024716Z"
    }
   },
   "source": "ans = docs[0].page_content.split(\"[销售回答]：\")[-1]",
   "outputs": [],
   "execution_count": 195
  },
  {
   "cell_type": "code",
   "id": "917a3b6c-3149-42e2-b7b6-abebd94b7f72",
   "metadata": {
    "ExecuteTime": {
     "end_time": "2024-07-24T13:43:47.421744Z",
     "start_time": "2024-07-24T13:43:47.409234Z"
    }
   },
   "source": [
    "ans"
   ],
   "outputs": [
    {
     "data": {
      "text/plain": [
       "'有的，向日葵和雏菊这些花象征着友情和欢乐，是送给朋友的最佳选择。'"
      ]
     },
     "execution_count": 196,
     "metadata": {},
     "output_type": "execute_result"
    }
   ],
   "execution_count": 196
  },
  {
   "cell_type": "markdown",
   "id": "b36b61a5-156d-4546-bbd1-8a983e94676b",
   "metadata": {},
   "source": [
    "#### 尝试各种问题"
   ]
  },
  {
   "cell_type": "code",
   "id": "c311a656-e571-45d6-8690-88e4be2c2a65",
   "metadata": {
    "ExecuteTime": {
     "end_time": "2024-07-24T13:44:08.499232Z",
     "start_time": "2024-07-24T13:44:08.494231Z"
    }
   },
   "source": [
    "from typing import List\n",
    "\n",
    "def love_master(query: str, score_threshold: float=0.8) -> List[str]:\n",
    "    retriever = db.as_retriever(search_type=\"similarity_score_threshold\", search_kwargs={\"score_threshold\": score_threshold})    \n",
    "    docs = retriever.get_relevant_documents(query)\n",
    "    ans_list = [doc.page_content.split(\"[销售回答]：\")[-1] for doc in docs]\n",
    "\n",
    "    return ans_list"
   ],
   "outputs": [],
   "execution_count": 197
  },
  {
   "cell_type": "code",
   "id": "2f4c6c08-b97c-4727-9aa1-a474d85a11e4",
   "metadata": {
    "ExecuteTime": {
     "end_time": "2024-07-24T13:45:23.944243Z",
     "start_time": "2024-07-24T13:45:18.535094Z"
    }
   },
   "source": [
    "query = \"分手送什么花？\"\n",
    "\n",
    "print(love_master(query))"
   ],
   "outputs": [
    {
     "name": "stdout",
     "output_type": "stream",
     "text": [
      "[]\n"
     ]
    },
    {
     "name": "stderr",
     "output_type": "stream",
     "text": [
      "D:\\ProgramFiles\\anaconda3\\envs\\langchain\\lib\\site-packages\\langchain_core\\vectorstores\\base.py:796: UserWarning: No relevant docs were retrieved using the relevance score threshold 0.8\n",
      "  warnings.warn(\n"
     ]
    }
   ],
   "execution_count": 200
  },
  {
   "cell_type": "code",
   "id": "11e3d8b6-839f-4b2f-b519-841e0271f95b",
   "metadata": {
    "ExecuteTime": {
     "end_time": "2024-07-24T13:45:28.196300Z",
     "start_time": "2024-07-24T13:45:26.377510Z"
    }
   },
   "source": "print(love_master(query, 0.75))",
   "outputs": [
    {
     "name": "stdout",
     "output_type": "stream",
     "text": [
      "['当然适合！玫瑰和向日葵都是很好的选择，玫瑰代表爱情，向日葵象征着阳光和希望。', '当然适合！玫瑰和向日葵都是很好的选择，玫瑰代表爱情，向日葵象征着阳光和希望。', '非常适合，向日葵和雏菊这些花象征着友情和欢乐，是送给朋友的最佳选择。', '有的，向日葵和雏菊这些花象征着友情和欢乐，是送给朋友的最佳选择。']\n"
     ]
    }
   ],
   "execution_count": 201
  },
  {
   "cell_type": "code",
   "id": "fc5b030a-ae6f-4d42-9577-1420c78aecb1",
   "metadata": {
    "ExecuteTime": {
     "end_time": "2024-07-24T13:46:13.807666Z",
     "start_time": "2024-07-24T13:46:06.845366Z"
    }
   },
   "source": [
    "query = \"女孩子更喜欢什么花？\"\n",
    "\n",
    "print(f\"score:0.8 ans: {love_master(query)}\\n\")\n",
    "print(f\"score:0.75 ans: {love_master(query, 0.75)}\\n\")\n",
    "print(f\"score:0.5 ans: {love_master(query, 0.5)}\\n\")"
   ],
   "outputs": [
    {
     "name": "stderr",
     "output_type": "stream",
     "text": [
      "D:\\ProgramFiles\\anaconda3\\envs\\langchain\\lib\\site-packages\\langchain_core\\vectorstores\\base.py:796: UserWarning: No relevant docs were retrieved using the relevance score threshold 0.8\n",
      "  warnings.warn(\n"
     ]
    },
    {
     "name": "stdout",
     "output_type": "stream",
     "text": [
      "score:0.8 ans: []\n",
      "\n",
      "score:0.75 ans: ['当然适合！玫瑰和向日葵都是很好的选择，玫瑰代表爱情，向日葵象征着阳光和希望。', '有的，小雏菊和郁金香都是很好的选择，它们颜色鲜艳，寓意纯真和快乐。', '有的，小雏菊和郁金香这些花颜色鲜艳，象征着纯真和快乐，非常适合送给孩子。', '有的，小雏菊和郁金香这些花颜色鲜艳，象征着纯真和快乐，非常适合送给孩子。']\n",
      "\n",
      "score:0.5 ans: ['当然适合！玫瑰和向日葵都是很好的选择，玫瑰代表爱情，向日葵象征着阳光和希望。', '有的，小雏菊和郁金香都是很好的选择，它们颜色鲜艳，寓意纯真和快乐。', '有的，小雏菊和郁金香这些花颜色鲜艳，象征着纯真和快乐，非常适合送给孩子。', '有的，小雏菊和郁金香这些花颜色鲜艳，象征着纯真和快乐，非常适合送给孩子。']\n",
      "\n"
     ]
    }
   ],
   "execution_count": 202
  },
  {
   "cell_type": "markdown",
   "id": "9e26e6d7-259b-4ecf-9c72-027befba4e3b",
   "metadata": {},
   "source": [
    "#### 当向量数据库中没有合适答案时，使用大语言模型能力"
   ]
  },
  {
   "cell_type": "code",
   "id": "9142feb4-980a-4142-b367-1401021dceef",
   "metadata": {
    "ExecuteTime": {
     "end_time": "2024-07-24T13:46:23.466321Z",
     "start_time": "2024-07-24T13:46:22.189292Z"
    }
   },
   "source": [
    "from langchain.chains import RetrievalQA\n",
    "from langchain_openai import ChatOpenAI\n",
    "\n",
    "llm = ChatOpenAI(api_key=\"sk-AlhxlLBU0BPYJD6I8870F34f377b47Dd8c1f86Ac73AfBe17\",\n",
    "    base_url=\"https://api.xiaoai.plus/v1\", model_name=\"gpt-4-1106-preview\", temperature=0.5)\n",
    "qa_chain = RetrievalQA.from_chain_type(llm,\n",
    "                                       retriever=db.as_retriever(search_type=\"similarity_score_threshold\",\n",
    "                                                                 search_kwargs={\"score_threshold\": 0.8}))"
   ],
   "outputs": [],
   "execution_count": 203
  },
  {
   "cell_type": "code",
   "id": "d281b560-54bb-4a25-a1dc-b23874361654",
   "metadata": {
    "ExecuteTime": {
     "end_time": "2024-07-24T13:46:49.819528Z",
     "start_time": "2024-07-24T13:46:41.317390Z"
    }
   },
   "source": "qa_chain({\"query\": \"康乃馨的花语是什么？\"})",
   "outputs": [
    {
     "name": "stderr",
     "output_type": "stream",
     "text": [
      "D:\\ProgramFiles\\anaconda3\\envs\\langchain\\lib\\site-packages\\langchain_core\\vectorstores\\base.py:796: UserWarning: No relevant docs were retrieved using the relevance score threshold 0.8\n",
      "  warnings.warn(\n"
     ]
    },
    {
     "data": {
      "text/plain": [
       "{'query': '康乃馨的花语是什么？',\n",
       " 'result': '康乃馨的花语通常是“母爱”或“爱与温暖”。不同颜色的康乃馨还有不同的含义，比如红色代表爱和钦佩，粉色象征感恩和母爱，白色则常常代表纯洁和尊重。'}"
      ]
     },
     "execution_count": 204,
     "metadata": {},
     "output_type": "execute_result"
    }
   ],
   "execution_count": 204
  },
  {
   "cell_type": "code",
   "id": "c6a30dcc-fa6b-4282-935c-b07902746e19",
   "metadata": {
    "ExecuteTime": {
     "end_time": "2024-07-24T13:47:40.581595Z",
     "start_time": "2024-07-24T13:47:34.283412Z"
    }
   },
   "source": "qa_chain({\"query\": \"前女友结婚，我应该送什么花？\"})",
   "outputs": [
    {
     "name": "stderr",
     "output_type": "stream",
     "text": [
      "D:\\ProgramFiles\\anaconda3\\envs\\langchain\\lib\\site-packages\\langchain_core\\vectorstores\\base.py:796: UserWarning: No relevant docs were retrieved using the relevance score threshold 0.8\n",
      "  warnings.warn(\n"
     ]
    },
    {
     "data": {
      "text/plain": [
       "{'query': '前女友结婚，我应该送什么花？',\n",
       " 'result': '送花的选择可以根据你与前女友的关系和她的喜好来决定。常见的选择有：\\n\\n1. **玫瑰**：虽然玫瑰通常代表爱情，但可以选择黄色或白色的玫瑰，象征祝福和友谊。\\n2. **百合**：象征纯洁和祝福，适合在婚礼这样的场合送出。\\n3. **康乃馨**：常用于表达祝贺，可以选择粉色或白色的康乃馨。\\n\\n最重要的是，选择一种你认为能表达你祝福的花，并保持礼貌和尊重的态度。'}"
      ]
     },
     "execution_count": 206,
     "metadata": {},
     "output_type": "execute_result"
    }
   ],
   "execution_count": 206
  },
  {
   "cell_type": "code",
   "id": "9da44bd6-02ef-4fb6-8e9e-7c99aeba483a",
   "metadata": {
    "ExecuteTime": {
     "end_time": "2024-07-24T13:47:50.624373Z",
     "start_time": "2024-07-24T13:47:47.985432Z"
    }
   },
   "source": "print(love_master(\"前女友结婚，我应该送什么花？\"))",
   "outputs": [
    {
     "name": "stdout",
     "output_type": "stream",
     "text": [
      "[]\n"
     ]
    },
    {
     "name": "stderr",
     "output_type": "stream",
     "text": [
      "D:\\ProgramFiles\\anaconda3\\envs\\langchain\\lib\\site-packages\\langchain_core\\vectorstores\\base.py:796: UserWarning: No relevant docs were retrieved using the relevance score threshold 0.8\n",
      "  warnings.warn(\n"
     ]
    }
   ],
   "execution_count": 207
  },
  {
   "cell_type": "code",
   "execution_count": null,
   "id": "9764bb10-44ed-47c9-a351-a68f4f7d4f44",
   "metadata": {},
   "outputs": [],
   "source": []
  },
  {
   "cell_type": "markdown",
   "id": "0a0647e8-5b41-4c93-87c2-3240ec558717",
   "metadata": {},
   "source": [
    "## 加载 FAISS 向量数据库已有结果"
   ]
  },
  {
   "cell_type": "code",
   "id": "913edd04-37ea-4c3f-9346-086aeb0ab447",
   "metadata": {
    "ExecuteTime": {
     "end_time": "2024-07-24T13:47:54.672410Z",
     "start_time": "2024-07-24T13:47:53.064085Z"
    }
   },
   "source": [
    "from langchain_openai import OpenAIEmbeddings\n",
    "from langchain.vectorstores import FAISS\n",
    "\n",
    "db = FAISS.load_local(\"real_estates_sale\", OpenAIEmbeddings())"
   ],
   "outputs": [
    {
     "ename": "ValueError",
     "evalue": "The de-serialization relies loading a pickle file. Pickle files can be modified to deliver a malicious payload that results in execution of arbitrary code on your machine.You will need to set `allow_dangerous_deserialization` to `True` to enable deserialization. If you do this, make sure that you trust the source of the data. For example, if you are loading a file that you created, and know that no one else has modified the file, then this is safe to do. Do not set this to `True` if you are loading a file from an untrusted source (e.g., some random site on the internet.).",
     "output_type": "error",
     "traceback": [
      "\u001B[1;31m---------------------------------------------------------------------------\u001B[0m",
      "\u001B[1;31mValueError\u001B[0m                                Traceback (most recent call last)",
      "Cell \u001B[1;32mIn[208], line 4\u001B[0m\n\u001B[0;32m      1\u001B[0m \u001B[38;5;28;01mfrom\u001B[39;00m \u001B[38;5;21;01mlangchain_openai\u001B[39;00m \u001B[38;5;28;01mimport\u001B[39;00m OpenAIEmbeddings\n\u001B[0;32m      2\u001B[0m \u001B[38;5;28;01mfrom\u001B[39;00m \u001B[38;5;21;01mlangchain\u001B[39;00m\u001B[38;5;21;01m.\u001B[39;00m\u001B[38;5;21;01mvectorstores\u001B[39;00m \u001B[38;5;28;01mimport\u001B[39;00m FAISS\n\u001B[1;32m----> 4\u001B[0m db \u001B[38;5;241m=\u001B[39m \u001B[43mFAISS\u001B[49m\u001B[38;5;241;43m.\u001B[39;49m\u001B[43mload_local\u001B[49m\u001B[43m(\u001B[49m\u001B[38;5;124;43m\"\u001B[39;49m\u001B[38;5;124;43mreal_estates_sale\u001B[39;49m\u001B[38;5;124;43m\"\u001B[39;49m\u001B[43m,\u001B[49m\u001B[43m \u001B[49m\u001B[43mOpenAIEmbeddings\u001B[49m\u001B[43m(\u001B[49m\u001B[43m)\u001B[49m\u001B[43m)\u001B[49m\n",
      "File \u001B[1;32mD:\\ProgramFiles\\anaconda3\\envs\\langchain\\lib\\site-packages\\langchain_community\\vectorstores\\faiss.py:1078\u001B[0m, in \u001B[0;36mFAISS.load_local\u001B[1;34m(cls, folder_path, embeddings, index_name, allow_dangerous_deserialization, **kwargs)\u001B[0m\n\u001B[0;32m   1063\u001B[0m \u001B[38;5;250m\u001B[39m\u001B[38;5;124;03m\"\"\"Load FAISS index, docstore, and index_to_docstore_id from disk.\u001B[39;00m\n\u001B[0;32m   1064\u001B[0m \n\u001B[0;32m   1065\u001B[0m \u001B[38;5;124;03mArgs:\u001B[39;00m\n\u001B[1;32m   (...)\u001B[0m\n\u001B[0;32m   1075\u001B[0m \u001B[38;5;124;03m    asynchronous: whether to use async version or not\u001B[39;00m\n\u001B[0;32m   1076\u001B[0m \u001B[38;5;124;03m\"\"\"\u001B[39;00m\n\u001B[0;32m   1077\u001B[0m \u001B[38;5;28;01mif\u001B[39;00m \u001B[38;5;129;01mnot\u001B[39;00m allow_dangerous_deserialization:\n\u001B[1;32m-> 1078\u001B[0m     \u001B[38;5;28;01mraise\u001B[39;00m \u001B[38;5;167;01mValueError\u001B[39;00m(\n\u001B[0;32m   1079\u001B[0m         \u001B[38;5;124m\"\u001B[39m\u001B[38;5;124mThe de-serialization relies loading a pickle file. \u001B[39m\u001B[38;5;124m\"\u001B[39m\n\u001B[0;32m   1080\u001B[0m         \u001B[38;5;124m\"\u001B[39m\u001B[38;5;124mPickle files can be modified to deliver a malicious payload that \u001B[39m\u001B[38;5;124m\"\u001B[39m\n\u001B[0;32m   1081\u001B[0m         \u001B[38;5;124m\"\u001B[39m\u001B[38;5;124mresults in execution of arbitrary code on your machine.\u001B[39m\u001B[38;5;124m\"\u001B[39m\n\u001B[0;32m   1082\u001B[0m         \u001B[38;5;124m\"\u001B[39m\u001B[38;5;124mYou will need to set `allow_dangerous_deserialization` to `True` to \u001B[39m\u001B[38;5;124m\"\u001B[39m\n\u001B[0;32m   1083\u001B[0m         \u001B[38;5;124m\"\u001B[39m\u001B[38;5;124menable deserialization. If you do this, make sure that you \u001B[39m\u001B[38;5;124m\"\u001B[39m\n\u001B[0;32m   1084\u001B[0m         \u001B[38;5;124m\"\u001B[39m\u001B[38;5;124mtrust the source of the data. For example, if you are loading a \u001B[39m\u001B[38;5;124m\"\u001B[39m\n\u001B[0;32m   1085\u001B[0m         \u001B[38;5;124m\"\u001B[39m\u001B[38;5;124mfile that you created, and know that no one else has modified the \u001B[39m\u001B[38;5;124m\"\u001B[39m\n\u001B[0;32m   1086\u001B[0m         \u001B[38;5;124m\"\u001B[39m\u001B[38;5;124mfile, then this is safe to do. Do not set this to `True` if you are \u001B[39m\u001B[38;5;124m\"\u001B[39m\n\u001B[0;32m   1087\u001B[0m         \u001B[38;5;124m\"\u001B[39m\u001B[38;5;124mloading a file from an untrusted source (e.g., some random site on \u001B[39m\u001B[38;5;124m\"\u001B[39m\n\u001B[0;32m   1088\u001B[0m         \u001B[38;5;124m\"\u001B[39m\u001B[38;5;124mthe internet.).\u001B[39m\u001B[38;5;124m\"\u001B[39m\n\u001B[0;32m   1089\u001B[0m     )\n\u001B[0;32m   1090\u001B[0m path \u001B[38;5;241m=\u001B[39m Path(folder_path)\n\u001B[0;32m   1091\u001B[0m \u001B[38;5;66;03m# load index separately since it is not picklable\u001B[39;00m\n",
      "\u001B[1;31mValueError\u001B[0m: The de-serialization relies loading a pickle file. Pickle files can be modified to deliver a malicious payload that results in execution of arbitrary code on your machine.You will need to set `allow_dangerous_deserialization` to `True` to enable deserialization. If you do this, make sure that you trust the source of the data. For example, if you are loading a file that you created, and know that no one else has modified the file, then this is safe to do. Do not set this to `True` if you are loading a file from an untrusted source (e.g., some random site on the internet.)."
     ]
    }
   ],
   "execution_count": 208
  },
  {
   "cell_type": "code",
   "id": "77d8eee4-6383-4b4a-9737-95ea9fc53b87",
   "metadata": {
    "ExecuteTime": {
     "end_time": "2024-07-24T13:47:58.343230Z",
     "start_time": "2024-07-24T13:47:56.774495Z"
    }
   },
   "source": [
    "from langchain.chains import RetrievalQA\n",
    "from langchain.chat_models import ChatOpenAI\n",
    "\n",
    "llm = ChatOpenAI(api_key=\"sk-AlhxlLBU0BPYJD6I8870F34f377b47Dd8c1f86Ac73AfBe17\",\n",
    "    base_url=\"https://api.xiaoai.plus/v1\", model_name=\"gpt-4\", temperature=0.5)\n",
    "qa_chain = RetrievalQA.from_chain_type(llm,\n",
    "                                       retriever=db.as_retriever(search_type=\"similarity_score_threshold\",\n",
    "                                                                 search_kwargs={\"score_threshold\": 0.8}))"
   ],
   "outputs": [],
   "execution_count": 209
  },
  {
   "cell_type": "code",
   "id": "5dfac197-cadb-47d7-8cbe-1b07a83fc8e1",
   "metadata": {
    "ExecuteTime": {
     "end_time": "2024-07-24T13:49:12.796833Z",
     "start_time": "2024-07-24T13:49:07.124417Z"
    }
   },
   "source": "qa_chain({\"query\": \"孩子考上了哈尔滨佛系大学，我应该送什么花来表示祝贺？\"})",
   "outputs": [
    {
     "name": "stderr",
     "output_type": "stream",
     "text": [
      "D:\\ProgramFiles\\anaconda3\\envs\\langchain\\lib\\site-packages\\langchain_core\\vectorstores\\base.py:796: UserWarning: No relevant docs were retrieved using the relevance score threshold 0.8\n",
      "  warnings.warn(\n"
     ]
    },
    {
     "data": {
      "text/plain": [
       "{'query': '孩子考上了哈尔滨佛系大学，我应该送什么花来表示祝贺？',\n",
       " 'result': '可以选择送康乃馨、百合花或玫瑰花来表示祝贺。康乃馨象征着祝福和爱，百合花代表纯洁和美好，而玫瑰花则传达了祝贺与祝福的心意。根据孩子的喜好选择合适的花束会更有意义。'}"
      ]
     },
     "execution_count": 210,
     "metadata": {},
     "output_type": "execute_result"
    }
   ],
   "execution_count": 210
  },
  {
   "cell_type": "code",
   "id": "fc393afc-06d3-4483-bd24-efe000ef5f2a",
   "metadata": {
    "ExecuteTime": {
     "end_time": "2024-07-24T13:49:20.514032Z",
     "start_time": "2024-07-24T13:49:20.510032Z"
    }
   },
   "source": [
    "# 输出内部 Chain 的日志\n",
    "qa_chain.combine_documents_chain.verbose = True"
   ],
   "outputs": [],
   "execution_count": 211
  },
  {
   "cell_type": "code",
   "id": "013c313a-5e7c-48d1-8ed4-eee96e50a99c",
   "metadata": {
    "ExecuteTime": {
     "end_time": "2024-07-24T13:51:01.862611Z",
     "start_time": "2024-07-24T13:50:55.188584Z"
    }
   },
   "source": "qa_chain({\"query\": \"男朋友喜欢剪了个中分头，还穿着背带裤打篮球，很帅气，我该送他什么花来表达我对他的喜爱？\"})",
   "outputs": [
    {
     "name": "stderr",
     "output_type": "stream",
     "text": [
      "D:\\ProgramFiles\\anaconda3\\envs\\langchain\\lib\\site-packages\\langchain_core\\vectorstores\\base.py:796: UserWarning: No relevant docs were retrieved using the relevance score threshold 0.8\n",
      "  warnings.warn(\n"
     ]
    },
    {
     "name": "stdout",
     "output_type": "stream",
     "text": [
      "\n",
      "\n",
      "\u001B[1m> Entering new StuffDocumentsChain chain...\u001B[0m\n",
      "\n",
      "\u001B[1m> Finished chain.\u001B[0m\n"
     ]
    },
    {
     "data": {
      "text/plain": [
       "{'query': '男朋友喜欢剪了个中分头，还穿着背带裤打篮球，很帅气，我该送他什么花来表达我对他的喜爱？',\n",
       " 'result': '你可以考虑送他向日葵或者白玫瑰。向日葵象征着阳光和积极向上的态度，适合表达你对他帅气形象的赞赏；而白玫瑰则代表纯洁和真挚的爱，适合表达你对他的喜欢。选择你觉得最能表达你心意的花吧！'}"
      ]
     },
     "execution_count": 213,
     "metadata": {},
     "output_type": "execute_result"
    }
   ],
   "execution_count": 213
  },
  {
   "cell_type": "code",
   "id": "e5fb0943-ffe9-4270-8dbe-f5f5314e6042",
   "metadata": {
    "ExecuteTime": {
     "end_time": "2024-07-24T09:24:04.973553Z",
     "start_time": "2024-07-24T09:24:04.959045Z"
    }
   },
   "source": [
    "# 返回向量数据库的检索结果\n",
    "qa_chain.return_source_documents = True"
   ],
   "outputs": [],
   "execution_count": 163
  },
  {
   "cell_type": "code",
   "id": "fbc1741e-d34f-4df5-874b-02b78e8cd67a",
   "metadata": {
    "ExecuteTime": {
     "end_time": "2024-07-24T13:53:54.546023Z",
     "start_time": "2024-07-24T13:53:48.470788Z"
    }
   },
   "source": "result = qa_chain({\"query\": \"女神结婚了，我很不爽，应该送什么花表达我的不快？\"})",
   "outputs": [
    {
     "name": "stderr",
     "output_type": "stream",
     "text": [
      "D:\\ProgramFiles\\anaconda3\\envs\\langchain\\lib\\site-packages\\langchain_core\\vectorstores\\base.py:796: UserWarning: No relevant docs were retrieved using the relevance score threshold 0.8\n",
      "  warnings.warn(\n"
     ]
    },
    {
     "name": "stdout",
     "output_type": "stream",
     "text": [
      "\n",
      "\n",
      "\u001B[1m> Entering new StuffDocumentsChain chain...\u001B[0m\n",
      "\n",
      "\u001B[1m> Finished chain.\u001B[0m\n"
     ]
    }
   ],
   "execution_count": 214
  },
  {
   "cell_type": "code",
   "id": "fac8309c-033c-4144-ada0-08e74fa9bf2d",
   "metadata": {
    "ExecuteTime": {
     "end_time": "2024-07-24T13:54:01.597138Z",
     "start_time": "2024-07-24T13:54:01.592620Z"
    }
   },
   "source": [
    "result"
   ],
   "outputs": [
    {
     "data": {
      "text/plain": [
       "{'query': '女神结婚了，我很不爽，应该送什么花表达我的不快？',\n",
       " 'result': '如果你想表达不快，可能不太适合送花，因为花通常是表达祝福和喜悦的象征。建议考虑其他方式来表达你的感受，比如和朋友聊聊或者写下你的想法。如果你还是想送花，可以选择一些寓意比较复杂的花，比如黑玫瑰，象征着悲伤或失落，但这也可能会引起误解。总之，送花不一定是表达不快的最佳选择。'}"
      ]
     },
     "execution_count": 215,
     "metadata": {},
     "output_type": "execute_result"
    }
   ],
   "execution_count": 215
  },
  {
   "cell_type": "code",
   "execution_count": null,
   "id": "37de84df-999f-4469-9bbe-de9c95c6f6b3",
   "metadata": {},
   "outputs": [],
   "source": []
  }
 ],
 "metadata": {
  "kernelspec": {
   "display_name": "Python 3 (ipykernel)",
   "language": "python",
   "name": "python3"
  },
  "language_info": {
   "codemirror_mode": {
    "name": "ipython",
    "version": 3
   },
   "file_extension": ".py",
   "mimetype": "text/x-python",
   "name": "python",
   "nbconvert_exporter": "python",
   "pygments_lexer": "ipython3",
   "version": "3.10.14"
  }
 },
 "nbformat": 4,
 "nbformat_minor": 5
}
